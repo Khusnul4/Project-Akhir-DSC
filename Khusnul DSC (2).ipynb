{
 "cells": [
  {
   "cell_type": "code",
   "execution_count": 13,
   "metadata": {},
   "outputs": [],
   "source": [
    "import pandas as pd\n",
    "import matplotlib.pyplot as plt\n",
    "import numpy as np\n",
    "import seaborn as sns\n",
    "from sklearn.linear_model import LinearRegression\n",
    "from sklearn.model_selection import train_test_split"
   ]
  },
  {
   "cell_type": "code",
   "execution_count": 14,
   "metadata": {},
   "outputs": [
    {
     "data": {
      "text/html": [
       "<div>\n",
       "<style scoped>\n",
       "    .dataframe tbody tr th:only-of-type {\n",
       "        vertical-align: middle;\n",
       "    }\n",
       "\n",
       "    .dataframe tbody tr th {\n",
       "        vertical-align: top;\n",
       "    }\n",
       "\n",
       "    .dataframe thead th {\n",
       "        text-align: right;\n",
       "    }\n",
       "</style>\n",
       "<table border=\"1\" class=\"dataframe\">\n",
       "  <thead>\n",
       "    <tr style=\"text-align: right;\">\n",
       "      <th></th>\n",
       "      <th>price</th>\n",
       "      <th>bedrooms</th>\n",
       "      <th>bathrooms</th>\n",
       "      <th>floors</th>\n",
       "      <th>grade</th>\n",
       "      <th>yr_built</th>\n",
       "      <th>yr_renovated</th>\n",
       "    </tr>\n",
       "  </thead>\n",
       "  <tbody>\n",
       "    <tr>\n",
       "      <th>0</th>\n",
       "      <td>221900</td>\n",
       "      <td>3</td>\n",
       "      <td>1</td>\n",
       "      <td>1</td>\n",
       "      <td>7</td>\n",
       "      <td>1955</td>\n",
       "      <td>0</td>\n",
       "    </tr>\n",
       "    <tr>\n",
       "      <th>1</th>\n",
       "      <td>538000</td>\n",
       "      <td>3</td>\n",
       "      <td>2</td>\n",
       "      <td>2</td>\n",
       "      <td>7</td>\n",
       "      <td>1951</td>\n",
       "      <td>1991</td>\n",
       "    </tr>\n",
       "    <tr>\n",
       "      <th>2</th>\n",
       "      <td>180000</td>\n",
       "      <td>2</td>\n",
       "      <td>1</td>\n",
       "      <td>1</td>\n",
       "      <td>6</td>\n",
       "      <td>1933</td>\n",
       "      <td>0</td>\n",
       "    </tr>\n",
       "    <tr>\n",
       "      <th>3</th>\n",
       "      <td>604000</td>\n",
       "      <td>4</td>\n",
       "      <td>3</td>\n",
       "      <td>1</td>\n",
       "      <td>7</td>\n",
       "      <td>1965</td>\n",
       "      <td>0</td>\n",
       "    </tr>\n",
       "    <tr>\n",
       "      <th>4</th>\n",
       "      <td>510000</td>\n",
       "      <td>3</td>\n",
       "      <td>2</td>\n",
       "      <td>1</td>\n",
       "      <td>8</td>\n",
       "      <td>1987</td>\n",
       "      <td>0</td>\n",
       "    </tr>\n",
       "    <tr>\n",
       "      <th>...</th>\n",
       "      <td>...</td>\n",
       "      <td>...</td>\n",
       "      <td>...</td>\n",
       "      <td>...</td>\n",
       "      <td>...</td>\n",
       "      <td>...</td>\n",
       "      <td>...</td>\n",
       "    </tr>\n",
       "    <tr>\n",
       "      <th>546</th>\n",
       "      <td>782000</td>\n",
       "      <td>4</td>\n",
       "      <td>3</td>\n",
       "      <td>2</td>\n",
       "      <td>10</td>\n",
       "      <td>1991</td>\n",
       "      <td>0</td>\n",
       "    </tr>\n",
       "    <tr>\n",
       "      <th>547</th>\n",
       "      <td>259950</td>\n",
       "      <td>2</td>\n",
       "      <td>2</td>\n",
       "      <td>2</td>\n",
       "      <td>9</td>\n",
       "      <td>2008</td>\n",
       "      <td>0</td>\n",
       "    </tr>\n",
       "    <tr>\n",
       "      <th>548</th>\n",
       "      <td>315000</td>\n",
       "      <td>4</td>\n",
       "      <td>3</td>\n",
       "      <td>1</td>\n",
       "      <td>7</td>\n",
       "      <td>1979</td>\n",
       "      <td>0</td>\n",
       "    </tr>\n",
       "    <tr>\n",
       "      <th>549</th>\n",
       "      <td>215000</td>\n",
       "      <td>2</td>\n",
       "      <td>1</td>\n",
       "      <td>1</td>\n",
       "      <td>6</td>\n",
       "      <td>1943</td>\n",
       "      <td>0</td>\n",
       "    </tr>\n",
       "    <tr>\n",
       "      <th>550</th>\n",
       "      <td>705000</td>\n",
       "      <td>3</td>\n",
       "      <td>2</td>\n",
       "      <td>1</td>\n",
       "      <td>7</td>\n",
       "      <td>1946</td>\n",
       "      <td>0</td>\n",
       "    </tr>\n",
       "  </tbody>\n",
       "</table>\n",
       "<p>551 rows × 7 columns</p>\n",
       "</div>"
      ],
      "text/plain": [
       "      price  bedrooms  bathrooms  floors  grade  yr_built  yr_renovated\n",
       "0    221900         3          1       1      7      1955             0\n",
       "1    538000         3          2       2      7      1951          1991\n",
       "2    180000         2          1       1      6      1933             0\n",
       "3    604000         4          3       1      7      1965             0\n",
       "4    510000         3          2       1      8      1987             0\n",
       "..      ...       ...        ...     ...    ...       ...           ...\n",
       "546  782000         4          3       2     10      1991             0\n",
       "547  259950         2          2       2      9      2008             0\n",
       "548  315000         4          3       1      7      1979             0\n",
       "549  215000         2          1       1      6      1943             0\n",
       "550  705000         3          2       1      7      1946             0\n",
       "\n",
       "[551 rows x 7 columns]"
      ]
     },
     "execution_count": 14,
     "metadata": {},
     "output_type": "execute_result"
    }
   ],
   "source": [
    "df = pd.read_csv('khusnul.csv')\n",
    "df"
   ]
  },
  {
   "cell_type": "code",
   "execution_count": 15,
   "metadata": {},
   "outputs": [
    {
     "data": {
      "text/plain": [
       "(551, 7)"
      ]
     },
     "execution_count": 15,
     "metadata": {},
     "output_type": "execute_result"
    }
   ],
   "source": [
    "df.shape"
   ]
  },
  {
   "cell_type": "code",
   "execution_count": 16,
   "metadata": {},
   "outputs": [
    {
     "name": "stdout",
     "output_type": "stream",
     "text": [
      "<class 'pandas.core.frame.DataFrame'>\n",
      "RangeIndex: 551 entries, 0 to 550\n",
      "Data columns (total 7 columns):\n",
      " #   Column        Non-Null Count  Dtype\n",
      "---  ------        --------------  -----\n",
      " 0   price         551 non-null    int64\n",
      " 1   bedrooms      551 non-null    int64\n",
      " 2   bathrooms     551 non-null    int64\n",
      " 3   floors        551 non-null    int64\n",
      " 4   grade         551 non-null    int64\n",
      " 5   yr_built      551 non-null    int64\n",
      " 6   yr_renovated  551 non-null    int64\n",
      "dtypes: int64(7)\n",
      "memory usage: 30.3 KB\n"
     ]
    }
   ],
   "source": [
    "df.info()"
   ]
  },
  {
   "cell_type": "code",
   "execution_count": 17,
   "metadata": {},
   "outputs": [
    {
     "data": {
      "text/html": [
       "<div>\n",
       "<style scoped>\n",
       "    .dataframe tbody tr th:only-of-type {\n",
       "        vertical-align: middle;\n",
       "    }\n",
       "\n",
       "    .dataframe tbody tr th {\n",
       "        vertical-align: top;\n",
       "    }\n",
       "\n",
       "    .dataframe thead th {\n",
       "        text-align: right;\n",
       "    }\n",
       "</style>\n",
       "<table border=\"1\" class=\"dataframe\">\n",
       "  <thead>\n",
       "    <tr style=\"text-align: right;\">\n",
       "      <th></th>\n",
       "      <th>price</th>\n",
       "      <th>bedrooms</th>\n",
       "      <th>bathrooms</th>\n",
       "      <th>floors</th>\n",
       "      <th>grade</th>\n",
       "      <th>yr_built</th>\n",
       "      <th>yr_renovated</th>\n",
       "    </tr>\n",
       "  </thead>\n",
       "  <tbody>\n",
       "    <tr>\n",
       "      <th>count</th>\n",
       "      <td>5.510000e+02</td>\n",
       "      <td>551.000000</td>\n",
       "      <td>551.000000</td>\n",
       "      <td>551.000000</td>\n",
       "      <td>551.000000</td>\n",
       "      <td>551.000000</td>\n",
       "      <td>551.000000</td>\n",
       "    </tr>\n",
       "    <tr>\n",
       "      <th>mean</th>\n",
       "      <td>5.312048e+05</td>\n",
       "      <td>3.359347</td>\n",
       "      <td>2.261343</td>\n",
       "      <td>1.490018</td>\n",
       "      <td>7.664247</td>\n",
       "      <td>1968.724138</td>\n",
       "      <td>97.842105</td>\n",
       "    </tr>\n",
       "    <tr>\n",
       "      <th>std</th>\n",
       "      <td>3.613804e+05</td>\n",
       "      <td>0.849438</td>\n",
       "      <td>0.842471</td>\n",
       "      <td>0.532055</td>\n",
       "      <td>1.209722</td>\n",
       "      <td>28.107458</td>\n",
       "      <td>431.434780</td>\n",
       "    </tr>\n",
       "    <tr>\n",
       "      <th>min</th>\n",
       "      <td>8.000000e+04</td>\n",
       "      <td>1.000000</td>\n",
       "      <td>1.000000</td>\n",
       "      <td>1.000000</td>\n",
       "      <td>4.000000</td>\n",
       "      <td>1900.000000</td>\n",
       "      <td>0.000000</td>\n",
       "    </tr>\n",
       "    <tr>\n",
       "      <th>25%</th>\n",
       "      <td>3.065000e+05</td>\n",
       "      <td>3.000000</td>\n",
       "      <td>2.000000</td>\n",
       "      <td>1.000000</td>\n",
       "      <td>7.000000</td>\n",
       "      <td>1952.000000</td>\n",
       "      <td>0.000000</td>\n",
       "    </tr>\n",
       "    <tr>\n",
       "      <th>50%</th>\n",
       "      <td>4.380000e+05</td>\n",
       "      <td>3.000000</td>\n",
       "      <td>2.000000</td>\n",
       "      <td>1.000000</td>\n",
       "      <td>7.000000</td>\n",
       "      <td>1973.000000</td>\n",
       "      <td>0.000000</td>\n",
       "    </tr>\n",
       "    <tr>\n",
       "      <th>75%</th>\n",
       "      <td>6.500000e+05</td>\n",
       "      <td>4.000000</td>\n",
       "      <td>3.000000</td>\n",
       "      <td>2.000000</td>\n",
       "      <td>8.000000</td>\n",
       "      <td>1991.500000</td>\n",
       "      <td>0.000000</td>\n",
       "    </tr>\n",
       "    <tr>\n",
       "      <th>max</th>\n",
       "      <td>3.075000e+06</td>\n",
       "      <td>6.000000</td>\n",
       "      <td>5.000000</td>\n",
       "      <td>3.000000</td>\n",
       "      <td>12.000000</td>\n",
       "      <td>2014.000000</td>\n",
       "      <td>2014.000000</td>\n",
       "    </tr>\n",
       "  </tbody>\n",
       "</table>\n",
       "</div>"
      ],
      "text/plain": [
       "              price    bedrooms   bathrooms      floors       grade  \\\n",
       "count  5.510000e+02  551.000000  551.000000  551.000000  551.000000   \n",
       "mean   5.312048e+05    3.359347    2.261343    1.490018    7.664247   \n",
       "std    3.613804e+05    0.849438    0.842471    0.532055    1.209722   \n",
       "min    8.000000e+04    1.000000    1.000000    1.000000    4.000000   \n",
       "25%    3.065000e+05    3.000000    2.000000    1.000000    7.000000   \n",
       "50%    4.380000e+05    3.000000    2.000000    1.000000    7.000000   \n",
       "75%    6.500000e+05    4.000000    3.000000    2.000000    8.000000   \n",
       "max    3.075000e+06    6.000000    5.000000    3.000000   12.000000   \n",
       "\n",
       "          yr_built  yr_renovated  \n",
       "count   551.000000    551.000000  \n",
       "mean   1968.724138     97.842105  \n",
       "std      28.107458    431.434780  \n",
       "min    1900.000000      0.000000  \n",
       "25%    1952.000000      0.000000  \n",
       "50%    1973.000000      0.000000  \n",
       "75%    1991.500000      0.000000  \n",
       "max    2014.000000   2014.000000  "
      ]
     },
     "execution_count": 17,
     "metadata": {},
     "output_type": "execute_result"
    }
   ],
   "source": [
    "df.describe()"
   ]
  },
  {
   "cell_type": "code",
   "execution_count": 18,
   "metadata": {},
   "outputs": [],
   "source": [
    "#Merubah tipe data dari bathrooms yang semula float menjadi int.\n",
    "df['bathrooms'] = df['bathrooms'].astype('int')\n",
    "#Mengganti nilai 33 menjadi 3.\n",
    "df['bedrooms'] = df['bedrooms'].replace(33,3)"
   ]
  },
  {
   "cell_type": "code",
   "execution_count": 19,
   "metadata": {},
   "outputs": [
    {
     "data": {
      "text/plain": [
       "price           0\n",
       "bedrooms        0\n",
       "bathrooms       0\n",
       "floors          0\n",
       "grade           0\n",
       "yr_built        0\n",
       "yr_renovated    0\n",
       "dtype: int64"
      ]
     },
     "execution_count": 19,
     "metadata": {},
     "output_type": "execute_result"
    }
   ],
   "source": [
    "df.isnull().sum()"
   ]
  },
  {
   "cell_type": "code",
   "execution_count": 21,
   "metadata": {},
   "outputs": [
    {
     "data": {
      "image/png": "[encoded data removed]",
      "text/plain": [
       "<Figure size 864x288 with 2 Axes>"
      ]
     },
     "metadata": {
      "needs_background": "light"
     },
     "output_type": "display_data"
    }
   ],
   "source": [
    "#Univariate analysis bedrooms.\n",
    "f = plt.figure(figsize=(12,4))\n",
    "f.add_subplot(1,2,1)\n",
    "sns.countplot(df['bedrooms'])\n",
    "f.add_subplot(1,2,2)\n",
    "plt.boxplot(df['bedrooms'])\n",
    "plt.show()"
   ]
  },
  {
   "cell_type": "code",
   "execution_count": 22,
   "metadata": {},
   "outputs": [
    {
     "data": {
      "image/png": "[encoded data removed]",
      "text/plain": [
       "<Figure size 864x288 with 2 Axes>"
      ]
     },
     "metadata": {
      "needs_background": "light"
     },
     "output_type": "display_data"
    }
   ],
   "source": [
    "#Univariate analysis bathrooms.\n",
    "\n",
    "f = plt.figure(figsize=(12,4))\n",
    "f.add_subplot(1,2,1)\n",
    "sns.countplot(df['bathrooms'])\n",
    "f.add_subplot(1,2,2)\n",
    "plt.boxplot(df['bathrooms'])\n",
    "plt.show()"
   ]
  },
  {
   "cell_type": "code",
   "execution_count": 24,
   "metadata": {},
   "outputs": [
    {
     "data": {
      "image/png": "[encoded data removed]",
      "text/plain": [
       "<Figure size 864x288 with 2 Axes>"
      ]
     },
     "metadata": {
      "needs_background": "light"
     },
     "output_type": "display_data"
    }
   ],
   "source": [
    "#Univariate analysis grade.\n",
    "\n",
    "f = plt.figure(figsize=(12,4))\n",
    "f.add_subplot(1,2,1)\n",
    "sns.countplot(df['grade'])\n",
    "f.add_subplot(1,2,2)\n",
    "plt.boxplot(df['grade'])\n",
    "plt.show()"
   ]
  },
  {
   "cell_type": "code",
   "execution_count": 38,
   "metadata": {},
   "outputs": [
    {
     "data": {
      "image/png": "[encoded data removed]",
      "text/plain": [
       "<Figure size 864x288 with 2 Axes>"
      ]
     },
     "metadata": {
      "needs_background": "light"
     },
     "output_type": "display_data"
    }
   ],
   "source": [
    "#Univariate analysis grade.\n",
    "\n",
    "f = plt.figure(figsize=(12,4))\n",
    "f.add_subplot(1,2,1)\n",
    "sns.countplot(df['floors'])\n",
    "f.add_subplot(1,2,2)\n",
    "plt.boxplot(df['floors'])\n",
    "plt.show()"
   ]
  },
  {
   "cell_type": "code",
   "execution_count": 42,
   "metadata": {},
   "outputs": [
    {
     "data": {
      "image/png": "[encoded data removed]",
      "text/plain": [
       "<Figure size 1440x576 with 2 Axes>"
      ]
     },
     "metadata": {
      "needs_background": "light"
     },
     "output_type": "display_data"
    }
   ],
   "source": [
    "#Univariate analysis yr_built.\n",
    "\n",
    "f = plt.figure(figsize=(20,8))\n",
    "f.add_subplot(1,2,1)\n",
    "sns.countplot(df['yr_renovated'])\n",
    "f.add_subplot(1,2,2)\n",
    "plt.boxplot(df['yr_renovated'])\n",
    "plt.show()"
   ]
  },
  {
   "cell_type": "code",
   "execution_count": 25,
   "metadata": {},
   "outputs": [
    {
     "data": {
      "image/png": "[encoded data removed]",
      "text/plain": [
       "<Figure size 1440x576 with 2 Axes>"
      ]
     },
     "metadata": {
      "needs_background": "light"
     },
     "output_type": "display_data"
    }
   ],
   "source": [
    "#Univariate analysis yr_built.\n",
    "\n",
    "f = plt.figure(figsize=(20,8))\n",
    "f.add_subplot(1,2,1)\n",
    "sns.countplot(df['yr_built'])\n",
    "f.add_subplot(1,2,2)\n",
    "plt.boxplot(df['yr_built'])\n",
    "plt.show()"
   ]
  },
  {
   "cell_type": "code",
   "execution_count": 43,
   "metadata": {},
   "outputs": [
    {
     "name": "stderr",
     "output_type": "stream",
     "text": [
      "C:\\Users\\rambo\\anaconda3\\lib\\site-packages\\seaborn\\axisgrid.py:2079: UserWarning: The `size` parameter has been renamed to `height`; please update your code.\n",
      "  warnings.warn(msg, UserWarning)\n"
     ]
    },
    {
     "data": {
      "text/plain": [
       "<seaborn.axisgrid.PairGrid at 0x16fdc41e808>"
      ]
     },
     "execution_count": 43,
     "metadata": {},
     "output_type": "execute_result"
    },
    {
     "data": {
      "text/plain": [
       "<Figure size 720x576 with 0 Axes>"
      ]
     },
     "metadata": {},
     "output_type": "display_data"
    },
    {
     "data": {
      "image/png": "[encoded data removed]",
      "text/plain": [
       "<Figure size 1620x360 with 6 Axes>"
      ]
     },
     "metadata": {
      "needs_background": "light"
     },
     "output_type": "display_data"
    }
   ],
   "source": [
    "#Bivariate analysis antara independent variable dan dependent variable.\n",
    "\n",
    "plt.figure(figsize=(10,8))\n",
    "sns.pairplot(data=df, x_vars=['floors','bedrooms', 'bathrooms', 'grade', 'yr_built','yr_renovated'], y_vars=['price'], size=5, aspect=0.75)"
   ]
  },
  {
   "cell_type": "code",
   "execution_count": 29,
   "metadata": {},
   "outputs": [
    {
     "data": {
      "text/html": [
       "<style  type=\"text/css\" >\n",
       "    #T_51934954_80d2_11ec_b1e5_a02bb846370brow0_col0 {\n",
       "            background-color:  #023858;\n",
       "            color:  #f1f1f1;\n",
       "        }    #T_51934954_80d2_11ec_b1e5_a02bb846370brow0_col1 {\n",
       "            background-color:  #bbc7e0;\n",
       "            color:  #000000;\n",
       "        }    #T_51934954_80d2_11ec_b1e5_a02bb846370brow0_col2 {\n",
       "            background-color:  #93b5d6;\n",
       "            color:  #000000;\n",
       "        }    #T_51934954_80d2_11ec_b1e5_a02bb846370brow0_col3 {\n",
       "            background-color:  #dbdaeb;\n",
       "            color:  #000000;\n",
       "        }    #T_51934954_80d2_11ec_b1e5_a02bb846370brow0_col4 {\n",
       "            background-color:  #2685bb;\n",
       "            color:  #000000;\n",
       "        }    #T_51934954_80d2_11ec_b1e5_a02bb846370brow0_col5 {\n",
       "            background-color:  #c9cee4;\n",
       "            color:  #000000;\n",
       "        }    #T_51934954_80d2_11ec_b1e5_a02bb846370brow0_col6 {\n",
       "            background-color:  #abbfdc;\n",
       "            color:  #000000;\n",
       "        }    #T_51934954_80d2_11ec_b1e5_a02bb846370brow1_col0 {\n",
       "            background-color:  #c5cce3;\n",
       "            color:  #000000;\n",
       "        }    #T_51934954_80d2_11ec_b1e5_a02bb846370brow1_col1 {\n",
       "            background-color:  #023858;\n",
       "            color:  #f1f1f1;\n",
       "        }    #T_51934954_80d2_11ec_b1e5_a02bb846370brow1_col2 {\n",
       "            background-color:  #8eb3d5;\n",
       "            color:  #000000;\n",
       "        }    #T_51934954_80d2_11ec_b1e5_a02bb846370brow1_col3 {\n",
       "            background-color:  #e1dfed;\n",
       "            color:  #000000;\n",
       "        }    #T_51934954_80d2_11ec_b1e5_a02bb846370brow1_col4 {\n",
       "            background-color:  #96b6d7;\n",
       "            color:  #000000;\n",
       "        }    #T_51934954_80d2_11ec_b1e5_a02bb846370brow1_col5 {\n",
       "            background-color:  #a5bddb;\n",
       "            color:  #000000;\n",
       "        }    #T_51934954_80d2_11ec_b1e5_a02bb846370brow1_col6 {\n",
       "            background-color:  #d2d3e7;\n",
       "            color:  #000000;\n",
       "        }    #T_51934954_80d2_11ec_b1e5_a02bb846370brow2_col0 {\n",
       "            background-color:  #94b6d7;\n",
       "            color:  #000000;\n",
       "        }    #T_51934954_80d2_11ec_b1e5_a02bb846370brow2_col1 {\n",
       "            background-color:  #84b0d3;\n",
       "            color:  #000000;\n",
       "        }    #T_51934954_80d2_11ec_b1e5_a02bb846370brow2_col2 {\n",
       "            background-color:  #023858;\n",
       "            color:  #f1f1f1;\n",
       "        }    #T_51934954_80d2_11ec_b1e5_a02bb846370brow2_col3 {\n",
       "            background-color:  #a1bbda;\n",
       "            color:  #000000;\n",
       "        }    #T_51934954_80d2_11ec_b1e5_a02bb846370brow2_col4 {\n",
       "            background-color:  #2685bb;\n",
       "            color:  #000000;\n",
       "        }    #T_51934954_80d2_11ec_b1e5_a02bb846370brow2_col5 {\n",
       "            background-color:  #2c89bd;\n",
       "            color:  #000000;\n",
       "        }    #T_51934954_80d2_11ec_b1e5_a02bb846370brow2_col6 {\n",
       "            background-color:  #cacee5;\n",
       "            color:  #000000;\n",
       "        }    #T_51934954_80d2_11ec_b1e5_a02bb846370brow3_col0 {\n",
       "            background-color:  #d9d8ea;\n",
       "            color:  #000000;\n",
       "        }    #T_51934954_80d2_11ec_b1e5_a02bb846370brow3_col1 {\n",
       "            background-color:  #d7d6e9;\n",
       "            color:  #000000;\n",
       "        }    #T_51934954_80d2_11ec_b1e5_a02bb846370brow3_col2 {\n",
       "            background-color:  #9cb9d9;\n",
       "            color:  #000000;\n",
       "        }    #T_51934954_80d2_11ec_b1e5_a02bb846370brow3_col3 {\n",
       "            background-color:  #023858;\n",
       "            color:  #f1f1f1;\n",
       "        }    #T_51934954_80d2_11ec_b1e5_a02bb846370brow3_col4 {\n",
       "            background-color:  #9cb9d9;\n",
       "            color:  #000000;\n",
       "        }    #T_51934954_80d2_11ec_b1e5_a02bb846370brow3_col5 {\n",
       "            background-color:  #8fb4d6;\n",
       "            color:  #000000;\n",
       "        }    #T_51934954_80d2_11ec_b1e5_a02bb846370brow3_col6 {\n",
       "            background-color:  #c6cce3;\n",
       "            color:  #000000;\n",
       "        }    #T_51934954_80d2_11ec_b1e5_a02bb846370brow4_col0 {\n",
       "            background-color:  #2f8bbe;\n",
       "            color:  #000000;\n",
       "        }    #T_51934954_80d2_11ec_b1e5_a02bb846370brow4_col1 {\n",
       "            background-color:  #99b8d8;\n",
       "            color:  #000000;\n",
       "        }    #T_51934954_80d2_11ec_b1e5_a02bb846370brow4_col2 {\n",
       "            background-color:  #2d8abd;\n",
       "            color:  #000000;\n",
       "        }    #T_51934954_80d2_11ec_b1e5_a02bb846370brow4_col3 {\n",
       "            background-color:  #acc0dd;\n",
       "            color:  #000000;\n",
       "        }    #T_51934954_80d2_11ec_b1e5_a02bb846370brow4_col4 {\n",
       "            background-color:  #023858;\n",
       "            color:  #f1f1f1;\n",
       "        }    #T_51934954_80d2_11ec_b1e5_a02bb846370brow4_col5 {\n",
       "            background-color:  #509ac6;\n",
       "            color:  #000000;\n",
       "        }    #T_51934954_80d2_11ec_b1e5_a02bb846370brow4_col6 {\n",
       "            background-color:  #d5d5e8;\n",
       "            color:  #000000;\n",
       "        }    #T_51934954_80d2_11ec_b1e5_a02bb846370brow5_col0 {\n",
       "            background-color:  #fff7fb;\n",
       "            color:  #000000;\n",
       "        }    #T_51934954_80d2_11ec_b1e5_a02bb846370brow5_col1 {\n",
       "            background-color:  #e0deed;\n",
       "            color:  #000000;\n",
       "        }    #T_51934954_80d2_11ec_b1e5_a02bb846370brow5_col2 {\n",
       "            background-color:  #67a4cc;\n",
       "            color:  #000000;\n",
       "        }    #T_51934954_80d2_11ec_b1e5_a02bb846370brow5_col3 {\n",
       "            background-color:  #d9d8ea;\n",
       "            color:  #000000;\n",
       "        }    #T_51934954_80d2_11ec_b1e5_a02bb846370brow5_col4 {\n",
       "            background-color:  #89b1d4;\n",
       "            color:  #000000;\n",
       "        }    #T_51934954_80d2_11ec_b1e5_a02bb846370brow5_col5 {\n",
       "            background-color:  #023858;\n",
       "            color:  #f1f1f1;\n",
       "        }    #T_51934954_80d2_11ec_b1e5_a02bb846370brow5_col6 {\n",
       "            background-color:  #fff7fb;\n",
       "            color:  #000000;\n",
       "        }    #T_51934954_80d2_11ec_b1e5_a02bb846370brow6_col0 {\n",
       "            background-color:  #ede8f3;\n",
       "            color:  #000000;\n",
       "        }    #T_51934954_80d2_11ec_b1e5_a02bb846370brow6_col1 {\n",
       "            background-color:  #fff7fb;\n",
       "            color:  #000000;\n",
       "        }    #T_51934954_80d2_11ec_b1e5_a02bb846370brow6_col2 {\n",
       "            background-color:  #fff7fb;\n",
       "            color:  #000000;\n",
       "        }    #T_51934954_80d2_11ec_b1e5_a02bb846370brow6_col3 {\n",
       "            background-color:  #fff7fb;\n",
       "            color:  #000000;\n",
       "        }    #T_51934954_80d2_11ec_b1e5_a02bb846370brow6_col4 {\n",
       "            background-color:  #fff7fb;\n",
       "            color:  #000000;\n",
       "        }    #T_51934954_80d2_11ec_b1e5_a02bb846370brow6_col5 {\n",
       "            background-color:  #fff7fb;\n",
       "            color:  #000000;\n",
       "        }    #T_51934954_80d2_11ec_b1e5_a02bb846370brow6_col6 {\n",
       "            background-color:  #023858;\n",
       "            color:  #f1f1f1;\n",
       "        }</style><table id=\"T_51934954_80d2_11ec_b1e5_a02bb846370b\" ><thead>    <tr>        <th class=\"blank level0\" ></th>        <th class=\"col_heading level0 col0\" >price</th>        <th class=\"col_heading level0 col1\" >bedrooms</th>        <th class=\"col_heading level0 col2\" >bathrooms</th>        <th class=\"col_heading level0 col3\" >floors</th>        <th class=\"col_heading level0 col4\" >grade</th>        <th class=\"col_heading level0 col5\" >yr_built</th>        <th class=\"col_heading level0 col6\" >yr_renovated</th>    </tr></thead><tbody>\n",
       "                <tr>\n",
       "                        <th id=\"T_51934954_80d2_11ec_b1e5_a02bb846370blevel0_row0\" class=\"row_heading level0 row0\" >price</th>\n",
       "                        <td id=\"T_51934954_80d2_11ec_b1e5_a02bb846370brow0_col0\" class=\"data row0 col0\" >1.00</td>\n",
       "                        <td id=\"T_51934954_80d2_11ec_b1e5_a02bb846370brow0_col1\" class=\"data row0 col1\" >0.33</td>\n",
       "                        <td id=\"T_51934954_80d2_11ec_b1e5_a02bb846370brow0_col2\" class=\"data row0 col2\" >0.46</td>\n",
       "                        <td id=\"T_51934954_80d2_11ec_b1e5_a02bb846370brow0_col3\" class=\"data row0 col3\" >0.26</td>\n",
       "                        <td id=\"T_51934954_80d2_11ec_b1e5_a02bb846370brow0_col4\" class=\"data row0 col4\" >0.67</td>\n",
       "                        <td id=\"T_51934954_80d2_11ec_b1e5_a02bb846370brow0_col5\" class=\"data row0 col5\" >0.07</td>\n",
       "                        <td id=\"T_51934954_80d2_11ec_b1e5_a02bb846370brow0_col6\" class=\"data row0 col6\" >0.18</td>\n",
       "            </tr>\n",
       "            <tr>\n",
       "                        <th id=\"T_51934954_80d2_11ec_b1e5_a02bb846370blevel0_row1\" class=\"row_heading level0 row1\" >bedrooms</th>\n",
       "                        <td id=\"T_51934954_80d2_11ec_b1e5_a02bb846370brow1_col0\" class=\"data row1 col0\" >0.33</td>\n",
       "                        <td id=\"T_51934954_80d2_11ec_b1e5_a02bb846370brow1_col1\" class=\"data row1 col1\" >1.00</td>\n",
       "                        <td id=\"T_51934954_80d2_11ec_b1e5_a02bb846370brow1_col2\" class=\"data row1 col2\" >0.47</td>\n",
       "                        <td id=\"T_51934954_80d2_11ec_b1e5_a02bb846370brow1_col3\" class=\"data row1 col3\" >0.24</td>\n",
       "                        <td id=\"T_51934954_80d2_11ec_b1e5_a02bb846370brow1_col4\" class=\"data row1 col4\" >0.42</td>\n",
       "                        <td id=\"T_51934954_80d2_11ec_b1e5_a02bb846370brow1_col5\" class=\"data row1 col5\" >0.20</td>\n",
       "                        <td id=\"T_51934954_80d2_11ec_b1e5_a02bb846370brow1_col6\" class=\"data row1 col6\" >0.02</td>\n",
       "            </tr>\n",
       "            <tr>\n",
       "                        <th id=\"T_51934954_80d2_11ec_b1e5_a02bb846370blevel0_row2\" class=\"row_heading level0 row2\" >bathrooms</th>\n",
       "                        <td id=\"T_51934954_80d2_11ec_b1e5_a02bb846370brow2_col0\" class=\"data row2 col0\" >0.46</td>\n",
       "                        <td id=\"T_51934954_80d2_11ec_b1e5_a02bb846370brow2_col1\" class=\"data row2 col1\" >0.47</td>\n",
       "                        <td id=\"T_51934954_80d2_11ec_b1e5_a02bb846370brow2_col2\" class=\"data row2 col2\" >1.00</td>\n",
       "                        <td id=\"T_51934954_80d2_11ec_b1e5_a02bb846370brow2_col3\" class=\"data row2 col3\" >0.44</td>\n",
       "                        <td id=\"T_51934954_80d2_11ec_b1e5_a02bb846370brow2_col4\" class=\"data row2 col4\" >0.67</td>\n",
       "                        <td id=\"T_51934954_80d2_11ec_b1e5_a02bb846370brow2_col5\" class=\"data row2 col5\" >0.55</td>\n",
       "                        <td id=\"T_51934954_80d2_11ec_b1e5_a02bb846370brow2_col6\" class=\"data row2 col6\" >0.06</td>\n",
       "            </tr>\n",
       "            <tr>\n",
       "                        <th id=\"T_51934954_80d2_11ec_b1e5_a02bb846370blevel0_row3\" class=\"row_heading level0 row3\" >floors</th>\n",
       "                        <td id=\"T_51934954_80d2_11ec_b1e5_a02bb846370brow3_col0\" class=\"data row3 col0\" >0.26</td>\n",
       "                        <td id=\"T_51934954_80d2_11ec_b1e5_a02bb846370brow3_col1\" class=\"data row3 col1\" >0.24</td>\n",
       "                        <td id=\"T_51934954_80d2_11ec_b1e5_a02bb846370brow3_col2\" class=\"data row3 col2\" >0.44</td>\n",
       "                        <td id=\"T_51934954_80d2_11ec_b1e5_a02bb846370brow3_col3\" class=\"data row3 col3\" >1.00</td>\n",
       "                        <td id=\"T_51934954_80d2_11ec_b1e5_a02bb846370brow3_col4\" class=\"data row3 col4\" >0.41</td>\n",
       "                        <td id=\"T_51934954_80d2_11ec_b1e5_a02bb846370brow3_col5\" class=\"data row3 col5\" >0.27</td>\n",
       "                        <td id=\"T_51934954_80d2_11ec_b1e5_a02bb846370brow3_col6\" class=\"data row3 col6\" >0.08</td>\n",
       "            </tr>\n",
       "            <tr>\n",
       "                        <th id=\"T_51934954_80d2_11ec_b1e5_a02bb846370blevel0_row4\" class=\"row_heading level0 row4\" >grade</th>\n",
       "                        <td id=\"T_51934954_80d2_11ec_b1e5_a02bb846370brow4_col0\" class=\"data row4 col0\" >0.67</td>\n",
       "                        <td id=\"T_51934954_80d2_11ec_b1e5_a02bb846370brow4_col1\" class=\"data row4 col1\" >0.42</td>\n",
       "                        <td id=\"T_51934954_80d2_11ec_b1e5_a02bb846370brow4_col2\" class=\"data row4 col2\" >0.67</td>\n",
       "                        <td id=\"T_51934954_80d2_11ec_b1e5_a02bb846370brow4_col3\" class=\"data row4 col3\" >0.41</td>\n",
       "                        <td id=\"T_51934954_80d2_11ec_b1e5_a02bb846370brow4_col4\" class=\"data row4 col4\" >1.00</td>\n",
       "                        <td id=\"T_51934954_80d2_11ec_b1e5_a02bb846370brow4_col5\" class=\"data row4 col5\" >0.45</td>\n",
       "                        <td id=\"T_51934954_80d2_11ec_b1e5_a02bb846370brow4_col6\" class=\"data row4 col6\" >0.01</td>\n",
       "            </tr>\n",
       "            <tr>\n",
       "                        <th id=\"T_51934954_80d2_11ec_b1e5_a02bb846370blevel0_row5\" class=\"row_heading level0 row5\" >yr_built</th>\n",
       "                        <td id=\"T_51934954_80d2_11ec_b1e5_a02bb846370brow5_col0\" class=\"data row5 col0\" >0.07</td>\n",
       "                        <td id=\"T_51934954_80d2_11ec_b1e5_a02bb846370brow5_col1\" class=\"data row5 col1\" >0.20</td>\n",
       "                        <td id=\"T_51934954_80d2_11ec_b1e5_a02bb846370brow5_col2\" class=\"data row5 col2\" >0.55</td>\n",
       "                        <td id=\"T_51934954_80d2_11ec_b1e5_a02bb846370brow5_col3\" class=\"data row5 col3\" >0.27</td>\n",
       "                        <td id=\"T_51934954_80d2_11ec_b1e5_a02bb846370brow5_col4\" class=\"data row5 col4\" >0.45</td>\n",
       "                        <td id=\"T_51934954_80d2_11ec_b1e5_a02bb846370brow5_col5\" class=\"data row5 col5\" >1.00</td>\n",
       "                        <td id=\"T_51934954_80d2_11ec_b1e5_a02bb846370brow5_col6\" class=\"data row5 col6\" >-0.28</td>\n",
       "            </tr>\n",
       "            <tr>\n",
       "                        <th id=\"T_51934954_80d2_11ec_b1e5_a02bb846370blevel0_row6\" class=\"row_heading level0 row6\" >yr_renovated</th>\n",
       "                        <td id=\"T_51934954_80d2_11ec_b1e5_a02bb846370brow6_col0\" class=\"data row6 col0\" >0.18</td>\n",
       "                        <td id=\"T_51934954_80d2_11ec_b1e5_a02bb846370brow6_col1\" class=\"data row6 col1\" >0.02</td>\n",
       "                        <td id=\"T_51934954_80d2_11ec_b1e5_a02bb846370brow6_col2\" class=\"data row6 col2\" >0.06</td>\n",
       "                        <td id=\"T_51934954_80d2_11ec_b1e5_a02bb846370brow6_col3\" class=\"data row6 col3\" >0.08</td>\n",
       "                        <td id=\"T_51934954_80d2_11ec_b1e5_a02bb846370brow6_col4\" class=\"data row6 col4\" >0.01</td>\n",
       "                        <td id=\"T_51934954_80d2_11ec_b1e5_a02bb846370brow6_col5\" class=\"data row6 col5\" >-0.28</td>\n",
       "                        <td id=\"T_51934954_80d2_11ec_b1e5_a02bb846370brow6_col6\" class=\"data row6 col6\" >1.00</td>\n",
       "            </tr>\n",
       "    </tbody></table>"
      ],
      "text/plain": [
       "<pandas.io.formats.style.Styler at 0x16fda9ada08>"
      ]
     },
     "execution_count": 29,
     "metadata": {},
     "output_type": "execute_result"
    }
   ],
   "source": [
    "df.corr().style.background_gradient().set_precision(2)"
   ]
  },
  {
   "cell_type": "code",
   "execution_count": 30,
   "metadata": {},
   "outputs": [
    {
     "name": "stdout",
     "output_type": "stream",
     "text": [
      "[ 8.88198310e+03  5.61402941e+04  3.15786135e+03  1.98914417e+05\n",
      " -4.01268793e+03  3.45181594e+01]\n",
      "6741159.380635537\n"
     ]
    }
   ],
   "source": [
    "#Pertama, buat variabel x dan y.\n",
    "x = df.drop(columns='price')\n",
    "y = df['price']\n",
    "#Kedua, split data menjadi training and testing dengan porsi 80:20.\n",
    "x_train, x_test, y_train, y_test = train_test_split(x, y, test_size=0.2, random_state=4)\n",
    "#Ketiga, bikin object linear regresi.\n",
    "lin_reg = LinearRegression()\n",
    "#Keempat, train the model menggunakan training data yang sudah displit.\n",
    "lin_reg.fit(x_train, y_train)\n",
    "#Kelima, cari tau nilai slope/koefisien (m) dan intercept (b).\n",
    "print(lin_reg.coef_)\n",
    "print(lin_reg.intercept_)"
   ]
  },
  {
   "cell_type": "code",
   "execution_count": 35,
   "metadata": {},
   "outputs": [
    {
     "data": {
      "text/plain": [
       "0.48344618647514015"
      ]
     },
     "execution_count": 35,
     "metadata": {},
     "output_type": "execute_result"
    }
   ],
   "source": [
    "lin_reg.score(x_test, y_test)"
   ]
  },
  {
   "cell_type": "code",
   "execution_count": 45,
   "metadata": {},
   "outputs": [
    {
     "data": {
      "text/plain": [
       "array([85757.18366268])"
      ]
     },
     "execution_count": 45,
     "metadata": {},
     "output_type": "execute_result"
    }
   ],
   "source": [
    "lin_reg.predict([[2,2,2,6,1990,0]])"
   ]
  }
 ],
 "metadata": {
  "kernelspec": {
   "display_name": "Python 3",
   "language": "python",
   "name": "python3"
  },
  "language_info": {
   "codemirror_mode": {
    "name": "ipython",
    "version": 3
   },
   "file_extension": ".py",
   "mimetype": "text/x-python",
   "name": "python",
   "nbconvert_exporter": "python",
   "pygments_lexer": "ipython3",
   "version": "3.7.6"
  }
 },
 "nbformat": 4,
 "nbformat_minor": 4
}
